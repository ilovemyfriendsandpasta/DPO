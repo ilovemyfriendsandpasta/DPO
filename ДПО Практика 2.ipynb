{
  "nbformat": 4,
  "nbformat_minor": 0,
  "metadata": {
    "colab": {
      "provenance": []
    },
    "kernelspec": {
      "name": "python3",
      "display_name": "Python 3"
    },
    "language_info": {
      "name": "python"
    }
  },
  "cells": [
    {
      "cell_type": "markdown",
      "source": [
        "# Практика №2\n",
        "\n",
        "1. Сгенерировать, используя модуль псевдослучайных чисел `random`, или ввести с клавиатуры список целых чисел. Вывести в консоль, затем перевернуть его и снова вывести в консоль.\n",
        "\n",
        "2. Сгенерировать, используя модуль псевдослучайных чисел `random`, или ввести с клавиатуры два списка целых чисел. Вывести их в консоль. Создать новый пустой список. Добавить в него все четные (по индексу) элементы первого списка и все нечетные (по индексу) элементы второго списка. Вывести третий список в консоль.\n",
        "\n",
        "3. Сгенерировать, используя модуль псевдослучайных чисел `random`, или ввести с клавиатуры список произвольных элементов (целые числа, числа с плавающей точкой, строки). Вывести в консоль. Убрать из него все дубликаты через приведение типов. Вывести в консоль.\n",
        "\n",
        "4. Сгенерировать, используя модуль псевдослучайных чисел `random`, или ввести с клавиатуры словарь, где ключом является строка, значением — целое число или число с плавающей точкой. Вывести в консоль. Для всех уникальных значений создать кортеж, где первым элементом будет значение, вторым — список связанных с ним ключей. Собрать эти кортежи в список, вывести его в консоль.\n",
        "\n",
        "5. Сгенерировать, используя модуль псевдослучайных чисел `random`, или ввести с клавиатуры два словаря, где ключом является строка, значением — целое число или число с плавающей точкой. Вывести в консоль. Найти пересечения множеств значений словарей. Создать новый словарь, содержащий только те пары ключ-значение, значения из которых входит в пересечение. Вывести в консоль.\n",
        "\n",
        "[Ссылка на документацию функции `random`](https://docs.python.org/3/library/random.html)\n",
        "\n",
        "[Built-in Types](https://docs.python.org/3/library/stdtypes.html?highlight=tuple#tuple)"
      ],
      "metadata": {
        "id": "64JPlHixec69"
      }
    },
    {
      "cell_type": "code",
      "source": [],
      "metadata": {
        "id": "mWj7NS9b1uR0"
      },
      "execution_count": null,
      "outputs": []
    },
    {
      "cell_type": "markdown",
      "source": [
        "## Задание 1"
      ],
      "metadata": {
        "id": "HAVFiCLPo28O"
      }
    },
    {
      "cell_type": "code",
      "source": [
        "import random\n",
        "\n",
        "def generate_list(k):\n",
        "  return [random.randrange(0, 10) for _ in range(k)]\n",
        "u = generate_list(8)\n",
        "print(u)\n",
        "\n",
        "print(list(reversed(u)))"
      ],
      "metadata": {
        "id": "YyusyI57F_6_",
        "colab": {
          "base_uri": "https://localhost:8080/"
        },
        "outputId": "4b9ddcd2-d059-4023-8bf4-d65847c5b6a7"
      },
      "execution_count": null,
      "outputs": [
        {
          "output_type": "stream",
          "name": "stdout",
          "text": [
            "[9, 2, 2, 2, 0, 7, 6, 1]\n",
            "[1, 6, 7, 0, 2, 2, 2, 9]\n"
          ]
        }
      ]
    },
    {
      "cell_type": "markdown",
      "source": [
        "## Задание 2"
      ],
      "metadata": {
        "id": "a1gbYjASfIqJ"
      }
    },
    {
      "cell_type": "code",
      "source": [
        "import random\n",
        "\n",
        "def CreateArray(k):\n",
        "  return [random.randrange(0,100) for _ in range(k)]\n",
        "\n",
        "list1 = CreateArray(10)\n",
        "list2 = CreateArray(10)\n",
        "list3 = [list1[i] for i in range(0,len(list1),2)] + [list1[i] for i in range(1,len(list1),2)]\n",
        "print(list3)"
      ],
      "metadata": {
        "id": "Q0qL-Z2CGAXx",
        "colab": {
          "base_uri": "https://localhost:8080/"
        },
        "outputId": "e546a48a-7a3d-4a8e-d1b3-ab0c14484a8e"
      },
      "execution_count": null,
      "outputs": [
        {
          "output_type": "stream",
          "name": "stdout",
          "text": [
            "[11, 80, 63, 57, 9, 14, 46, 71, 34, 71]\n"
          ]
        }
      ]
    },
    {
      "cell_type": "markdown",
      "source": [
        "## Задание 3"
      ],
      "metadata": {
        "id": "ZITkT8YUfM8t"
      }
    },
    {
      "cell_type": "code",
      "source": [
        "import random\n",
        "\n",
        "def CreateArrayInt(k):\n",
        "  return [random.randrange(7) for _ in range(k)]\n",
        "def CreateArrayFloat(k):\n",
        "  return [random.randrange(10)*random.random() for _ in range(k)]\n",
        "\n",
        "arr = CreateArrayInt(10) + CreateArrayFloat(5) + ['abc', 'abc']\n",
        "print(arr)\n",
        "print(set(arr))"
      ],
      "metadata": {
        "id": "FIKNuLjQGAsW",
        "colab": {
          "base_uri": "https://localhost:8080/"
        },
        "outputId": "02495a3e-5442-4952-c538-4f60291213eb"
      },
      "execution_count": null,
      "outputs": [
        {
          "output_type": "stream",
          "name": "stdout",
          "text": [
            "[3, 4, 1, 5, 2, 2, 5, 1, 5, 6, 5.452527114137801, 4.981854400632856, 4.913081996874205, 0.0, 1.2097045480329243, 'abc', 'abc']\n",
            "{0.0, 1, 2, 3, 4, 5, 6, 5.452527114137801, 4.981854400632856, 4.913081996874205, 1.2097045480329243, 'abc'}\n"
          ]
        }
      ]
    },
    {
      "cell_type": "markdown",
      "source": [
        "## Задание 4"
      ],
      "metadata": {
        "id": "sqvNf2a6fTdY"
      }
    },
    {
      "cell_type": "code",
      "source": [
        "import random\n",
        "\n",
        "def Set(arr):\n",
        "  temp = list()\n",
        "  for i in range(len(arr)):\n",
        "    flag = False\n",
        "    for j in range (i+1, len(arr)):\n",
        "      if (arr[i] == arr[j]):\n",
        "        flag = True\n",
        "    if (not flag):\n",
        "      temp.append(arr[i])\n",
        "  return temp\n",
        "\n",
        "assoc_arr = dict()\n",
        "assoc_arr['a'] = 5\n",
        "assoc_arr['b'] = 5\n",
        "assoc_arr['c'] = 5\n",
        "assoc_arr['d'] = 7\n",
        "assoc_arr['e'] = 9\n",
        "print(assoc_arr)\n",
        "temp = list()\n",
        "for value in assoc_arr.values():\n",
        "  b = list()\n",
        "  for i in temp:\n",
        "    if i[0] == value:\n",
        "      continue\n",
        "  for key in assoc_arr.keys():\n",
        "    if len(b) == 0:\n",
        "      b.append(value)\n",
        "      if (value == assoc_arr[key]):\n",
        "        b.append(key)\n",
        "    else:\n",
        "      if assoc_arr[key] == b[0]:\n",
        "        b.append(key)\n",
        "  temp.append(b)\n",
        "temp = Set(temp)\n",
        "print(temp)\n",
        "\n"
      ],
      "metadata": {
        "id": "4qaYZ2dMGBEr",
        "colab": {
          "base_uri": "https://localhost:8080/"
        },
        "outputId": "f5bcf55d-52a8-43b9-ee9f-67f6d8e14fb3"
      },
      "execution_count": null,
      "outputs": [
        {
          "output_type": "stream",
          "name": "stdout",
          "text": [
            "{'a': 5, 'b': 5, 'c': 5, 'd': 7, 'e': 9}\n",
            "[[5, 'a', 'b', 'c'], [7, 'd'], [9, 'e']]\n"
          ]
        }
      ]
    },
    {
      "cell_type": "markdown",
      "source": [
        "## Задание 5"
      ],
      "metadata": {
        "id": "3V5mJOBQfYHe"
      }
    },
    {
      "cell_type": "code",
      "source": [
        "assoc_arr = dict()\n",
        "assoc_arr['a'] = 5\n",
        "assoc_arr['b'] = 13\n",
        "assoc_arr['c'] = 9\n",
        "assoc_arr['d'] = 7\n",
        "assoc_arr['e'] = 10\n",
        "\n",
        "assoc_arrr = dict()\n",
        "assoc_arrr['f'] = 5\n",
        "assoc_arrr['g'] = 4\n",
        "assoc_arrr['h'] = 13\n",
        "assoc_arrr['j'] = 8\n",
        "assoc_arrr['k'] = 9\n",
        "\n",
        "print(assoc_arr)\n",
        "print(assoc_arrr)\n",
        "\n",
        "dictionary = dict()\n",
        "for key, value in assoc_arr.items():\n",
        "  for k, v in assoc_arrr.items():\n",
        "    if (value == v):\n",
        "      dictionary[key] = value\n",
        "      break\n",
        "print(dictionary)"
      ],
      "metadata": {
        "id": "7RJzU4DiGBXQ",
        "colab": {
          "base_uri": "https://localhost:8080/"
        },
        "outputId": "67eb266e-8382-4637-f16d-d31ac85eae73"
      },
      "execution_count": null,
      "outputs": [
        {
          "output_type": "stream",
          "name": "stdout",
          "text": [
            "{'a': 5, 'b': 13, 'c': 9, 'd': 7, 'e': 10}\n",
            "{'f': 5, 'g': 4, 'h': 13, 'j': 8, 'k': 9}\n",
            "{'a': 5, 'b': 13, 'c': 9}\n"
          ]
        }
      ]
    }
  ]
}